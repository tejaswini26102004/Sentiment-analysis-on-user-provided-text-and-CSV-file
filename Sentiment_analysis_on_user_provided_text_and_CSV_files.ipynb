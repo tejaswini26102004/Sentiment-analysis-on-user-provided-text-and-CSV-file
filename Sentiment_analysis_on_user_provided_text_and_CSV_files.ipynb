{
  "nbformat": 4,
  "nbformat_minor": 0,
  "metadata": {
    "colab": {
      "provenance": []
    },
    "kernelspec": {
      "name": "python3",
      "display_name": "Python 3"
    },
    "language_info": {
      "name": "python"
    }
  },
  "cells": [
    {
      "cell_type": "markdown",
      "source": [
        "*This code sets up a web application using Streamlit and Ngrok to perform sentiment analysis on user-provided text and CSV files. The application provides a user-friendly interface to analyze individual text sentiments and clean text data. It also enables users to upload CSV files, perform sentiment analysis on text data within the files, and download the results.*"
      ],
      "metadata": {
        "id": "yenm01WIr9n4"
      }
    },
    {
      "cell_type": "markdown",
      "source": [
        "# 1.Setting up Ngrok Authtoken:\n",
        "\n",
        "**from pyngrok import ngrok:** Imports the Ngrok module from the Pyngrok library, which is used to\n",
        "create secure tunnels to your localhost.\n",
        "\n",
        "**ngrok.set_auth_token(...):** Sets your Ngrok authentication token, allowing you to connect to Ngrok's service securely. This token is specific to your Ngrok account."
      ],
      "metadata": {
        "id": "vZAcMmW0nKUZ"
      }
    },
    {
      "cell_type": "code",
      "source": [
        "!pip install pyngrok\n",
        "from pyngrok import ngrok\n",
        "\n",
        "# Set your Ngrok authtoken\n",
        "ngrok.set_auth_token('2lnbNYEGVlOilStHi6lfAETdtpP_kMCx4REcfZ9haktvp9mF')\n"
      ],
      "metadata": {
        "colab": {
          "base_uri": "https://localhost:8080/"
        },
        "id": "2JRmltJJmtvg",
        "outputId": "387027dd-a93b-4704-c35c-cd3471c351c2"
      },
      "execution_count": 3,
      "outputs": [
        {
          "output_type": "stream",
          "name": "stdout",
          "text": [
            "Collecting pyngrok\n",
            "  Downloading pyngrok-7.2.0-py3-none-any.whl.metadata (7.4 kB)\n",
            "Requirement already satisfied: PyYAML>=5.1 in /usr/local/lib/python3.10/dist-packages (from pyngrok) (6.0.2)\n",
            "Downloading pyngrok-7.2.0-py3-none-any.whl (22 kB)\n",
            "Installing collected packages: pyngrok\n",
            "Successfully installed pyngrok-7.2.0\n"
          ]
        }
      ]
    },
    {
      "cell_type": "markdown",
      "source": [
        "# 2.Starting the streamlit app\n",
        "\n",
        "**!streamlit run app.py &>/dev/null&:**  This command starts the Streamlit application defined in the file app.py. The &>/dev/null& part redirects the output to /dev/null, essentially hiding the output from the terminal."
      ],
      "metadata": {
        "id": "6XrI8AvlnZ_e"
      }
    },
    {
      "cell_type": "code",
      "source": [
        "# Start the Streamlit app\n",
        "!streamlit run app.py &>/dev/null&"
      ],
      "metadata": {
        "id": "2WWB7vObnaVF"
      },
      "execution_count": 4,
      "outputs": []
    },
    {
      "cell_type": "markdown",
      "source": [
        "# 3.Exposing the Streamlit app using Ngrok:\n",
        "\n",
        "**public_url = ngrok.connect(addr='8501'):**  This line uses Ngrok to create a public URL that maps to your local Streamlit app running on port 8501. addr='8501' specifies the address to be tunneled.\n",
        "\n",
        "**print(f'Access the app here: {public_url}'): ** Prints the public URL, allowing you to access your Streamlit app from any browser."
      ],
      "metadata": {
        "id": "UbP66NJiooIK"
      }
    },
    {
      "cell_type": "code",
      "source": [
        "# Expose the Streamlit app using Ngrok\n",
        "# Use addr instead of port for HTTP tunnels\n",
        "public_url = ngrok.connect(addr='8501')\n",
        "print(f'Access the app here: {public_url}')\n"
      ],
      "metadata": {
        "colab": {
          "base_uri": "https://localhost:8080/"
        },
        "id": "BuDdiVrcomTb",
        "outputId": "610126e4-d7d2-478a-ed39-05ba2533d6b9"
      },
      "execution_count": 5,
      "outputs": [
        {
          "output_type": "stream",
          "name": "stdout",
          "text": [
            "Access the app here: NgrokTunnel: \"https://dab1-34-122-214-116.ngrok-free.app\" -> \"http://localhost:8501\"\n"
          ]
        }
      ]
    },
    {
      "cell_type": "markdown",
      "source": [
        "# 4.Installing Necessary Libraries:\n",
        "\n",
        "**!pip install streamlit:** Installs Streamlit, the Python library used to create interactive web apps.\n",
        "\n",
        "**!pip install pyngrok:**  Installs Pyngrok, the Python wrapper for Ngrok, used to create secure tunnels.\n",
        "\n",
        "**!pip install textblob clean-text pandas:** Installs additional libraries:\n",
        "\n",
        "**TextBlob:** For natural language processing tasks, such as sentiment analysis.\n",
        "\n",
        "**clean-text:** For cleaning text data (removing punctuation, stopwords, etc.).\n",
        "\n",
        "**Pandas: **For data manipulation and analysis, often used with CSV files."
      ],
      "metadata": {
        "id": "xxZU4sbipVeu"
      }
    },
    {
      "cell_type": "code",
      "source": [
        "# Step 1: Install necessary libraries\n",
        "!pip install streamlit\n",
        "!pip install pyngrok\n",
        "!pip install textblob clean-text pandas\n"
      ],
      "metadata": {
        "colab": {
          "base_uri": "https://localhost:8080/"
        },
        "id": "hYBpjKdUpRgv",
        "outputId": "b747b62f-8491-43a0-fa2b-3324b0063e83"
      },
      "execution_count": 6,
      "outputs": [
        {
          "output_type": "stream",
          "name": "stdout",
          "text": [
            "Collecting streamlit\n",
            "  Downloading streamlit-1.38.0-py2.py3-none-any.whl.metadata (8.5 kB)\n",
            "Requirement already satisfied: altair<6,>=4.0 in /usr/local/lib/python3.10/dist-packages (from streamlit) (4.2.2)\n",
            "Requirement already satisfied: blinker<2,>=1.0.0 in /usr/lib/python3/dist-packages (from streamlit) (1.4)\n",
            "Requirement already satisfied: cachetools<6,>=4.0 in /usr/local/lib/python3.10/dist-packages (from streamlit) (5.5.0)\n",
            "Requirement already satisfied: click<9,>=7.0 in /usr/local/lib/python3.10/dist-packages (from streamlit) (8.1.7)\n",
            "Requirement already satisfied: numpy<3,>=1.20 in /usr/local/lib/python3.10/dist-packages (from streamlit) (1.26.4)\n",
            "Requirement already satisfied: packaging<25,>=20 in /usr/local/lib/python3.10/dist-packages (from streamlit) (24.1)\n",
            "Requirement already satisfied: pandas<3,>=1.3.0 in /usr/local/lib/python3.10/dist-packages (from streamlit) (2.1.4)\n",
            "Requirement already satisfied: pillow<11,>=7.1.0 in /usr/local/lib/python3.10/dist-packages (from streamlit) (9.4.0)\n",
            "Requirement already satisfied: protobuf<6,>=3.20 in /usr/local/lib/python3.10/dist-packages (from streamlit) (3.20.3)\n",
            "Requirement already satisfied: pyarrow>=7.0 in /usr/local/lib/python3.10/dist-packages (from streamlit) (14.0.2)\n",
            "Requirement already satisfied: requests<3,>=2.27 in /usr/local/lib/python3.10/dist-packages (from streamlit) (2.32.3)\n",
            "Requirement already satisfied: rich<14,>=10.14.0 in /usr/local/lib/python3.10/dist-packages (from streamlit) (13.8.0)\n",
            "Collecting tenacity<9,>=8.1.0 (from streamlit)\n",
            "  Downloading tenacity-8.5.0-py3-none-any.whl.metadata (1.2 kB)\n",
            "Requirement already satisfied: toml<2,>=0.10.1 in /usr/local/lib/python3.10/dist-packages (from streamlit) (0.10.2)\n",
            "Requirement already satisfied: typing-extensions<5,>=4.3.0 in /usr/local/lib/python3.10/dist-packages (from streamlit) (4.12.2)\n",
            "Collecting gitpython!=3.1.19,<4,>=3.0.7 (from streamlit)\n",
            "  Downloading GitPython-3.1.43-py3-none-any.whl.metadata (13 kB)\n",
            "Collecting pydeck<1,>=0.8.0b4 (from streamlit)\n",
            "  Downloading pydeck-0.9.1-py2.py3-none-any.whl.metadata (4.1 kB)\n",
            "Requirement already satisfied: tornado<7,>=6.0.3 in /usr/local/lib/python3.10/dist-packages (from streamlit) (6.3.3)\n",
            "Collecting watchdog<5,>=2.1.5 (from streamlit)\n",
            "  Downloading watchdog-4.0.2-py3-none-manylinux2014_x86_64.whl.metadata (38 kB)\n",
            "Requirement already satisfied: entrypoints in /usr/local/lib/python3.10/dist-packages (from altair<6,>=4.0->streamlit) (0.4)\n",
            "Requirement already satisfied: jinja2 in /usr/local/lib/python3.10/dist-packages (from altair<6,>=4.0->streamlit) (3.1.4)\n",
            "Requirement already satisfied: jsonschema>=3.0 in /usr/local/lib/python3.10/dist-packages (from altair<6,>=4.0->streamlit) (4.23.0)\n",
            "Requirement already satisfied: toolz in /usr/local/lib/python3.10/dist-packages (from altair<6,>=4.0->streamlit) (0.12.1)\n",
            "Collecting gitdb<5,>=4.0.1 (from gitpython!=3.1.19,<4,>=3.0.7->streamlit)\n",
            "  Downloading gitdb-4.0.11-py3-none-any.whl.metadata (1.2 kB)\n",
            "Requirement already satisfied: python-dateutil>=2.8.2 in /usr/local/lib/python3.10/dist-packages (from pandas<3,>=1.3.0->streamlit) (2.8.2)\n",
            "Requirement already satisfied: pytz>=2020.1 in /usr/local/lib/python3.10/dist-packages (from pandas<3,>=1.3.0->streamlit) (2024.1)\n",
            "Requirement already satisfied: tzdata>=2022.1 in /usr/local/lib/python3.10/dist-packages (from pandas<3,>=1.3.0->streamlit) (2024.1)\n",
            "Requirement already satisfied: charset-normalizer<4,>=2 in /usr/local/lib/python3.10/dist-packages (from requests<3,>=2.27->streamlit) (3.3.2)\n",
            "Requirement already satisfied: idna<4,>=2.5 in /usr/local/lib/python3.10/dist-packages (from requests<3,>=2.27->streamlit) (3.8)\n",
            "Requirement already satisfied: urllib3<3,>=1.21.1 in /usr/local/lib/python3.10/dist-packages (from requests<3,>=2.27->streamlit) (2.0.7)\n",
            "Requirement already satisfied: certifi>=2017.4.17 in /usr/local/lib/python3.10/dist-packages (from requests<3,>=2.27->streamlit) (2024.8.30)\n",
            "Requirement already satisfied: markdown-it-py>=2.2.0 in /usr/local/lib/python3.10/dist-packages (from rich<14,>=10.14.0->streamlit) (3.0.0)\n",
            "Requirement already satisfied: pygments<3.0.0,>=2.13.0 in /usr/local/lib/python3.10/dist-packages (from rich<14,>=10.14.0->streamlit) (2.16.1)\n",
            "Collecting smmap<6,>=3.0.1 (from gitdb<5,>=4.0.1->gitpython!=3.1.19,<4,>=3.0.7->streamlit)\n",
            "  Downloading smmap-5.0.1-py3-none-any.whl.metadata (4.3 kB)\n",
            "Requirement already satisfied: MarkupSafe>=2.0 in /usr/local/lib/python3.10/dist-packages (from jinja2->altair<6,>=4.0->streamlit) (2.1.5)\n",
            "Requirement already satisfied: attrs>=22.2.0 in /usr/local/lib/python3.10/dist-packages (from jsonschema>=3.0->altair<6,>=4.0->streamlit) (24.2.0)\n",
            "Requirement already satisfied: jsonschema-specifications>=2023.03.6 in /usr/local/lib/python3.10/dist-packages (from jsonschema>=3.0->altair<6,>=4.0->streamlit) (2023.12.1)\n",
            "Requirement already satisfied: referencing>=0.28.4 in /usr/local/lib/python3.10/dist-packages (from jsonschema>=3.0->altair<6,>=4.0->streamlit) (0.35.1)\n",
            "Requirement already satisfied: rpds-py>=0.7.1 in /usr/local/lib/python3.10/dist-packages (from jsonschema>=3.0->altair<6,>=4.0->streamlit) (0.20.0)\n",
            "Requirement already satisfied: mdurl~=0.1 in /usr/local/lib/python3.10/dist-packages (from markdown-it-py>=2.2.0->rich<14,>=10.14.0->streamlit) (0.1.2)\n",
            "Requirement already satisfied: six>=1.5 in /usr/local/lib/python3.10/dist-packages (from python-dateutil>=2.8.2->pandas<3,>=1.3.0->streamlit) (1.16.0)\n",
            "Downloading streamlit-1.38.0-py2.py3-none-any.whl (8.7 MB)\n",
            "\u001b[2K   \u001b[90m━━━━━━━━━━━━━━━━━━━━━━━━━━━━━━━━━━━━━━━━\u001b[0m \u001b[32m8.7/8.7 MB\u001b[0m \u001b[31m29.4 MB/s\u001b[0m eta \u001b[36m0:00:00\u001b[0m\n",
            "\u001b[?25hDownloading GitPython-3.1.43-py3-none-any.whl (207 kB)\n",
            "\u001b[2K   \u001b[90m━━━━━━━━━━━━━━━━━━━━━━━━━━━━━━━━━━━━━━━━\u001b[0m \u001b[32m207.3/207.3 kB\u001b[0m \u001b[31m14.2 MB/s\u001b[0m eta \u001b[36m0:00:00\u001b[0m\n",
            "\u001b[?25hDownloading pydeck-0.9.1-py2.py3-none-any.whl (6.9 MB)\n",
            "\u001b[2K   \u001b[90m━━━━━━━━━━━━━━━━━━━━━━━━━━━━━━━━━━━━━━━━\u001b[0m \u001b[32m6.9/6.9 MB\u001b[0m \u001b[31m69.1 MB/s\u001b[0m eta \u001b[36m0:00:00\u001b[0m\n",
            "\u001b[?25hDownloading tenacity-8.5.0-py3-none-any.whl (28 kB)\n",
            "Downloading watchdog-4.0.2-py3-none-manylinux2014_x86_64.whl (82 kB)\n",
            "\u001b[2K   \u001b[90m━━━━━━━━━━━━━━━━━━━━━━━━━━━━━━━━━━━━━━━━\u001b[0m \u001b[32m82.9/82.9 kB\u001b[0m \u001b[31m6.3 MB/s\u001b[0m eta \u001b[36m0:00:00\u001b[0m\n",
            "\u001b[?25hDownloading gitdb-4.0.11-py3-none-any.whl (62 kB)\n",
            "\u001b[2K   \u001b[90m━━━━━━━━━━━━━━━━━━━━━━━━━━━━━━━━━━━━━━━━\u001b[0m \u001b[32m62.7/62.7 kB\u001b[0m \u001b[31m4.6 MB/s\u001b[0m eta \u001b[36m0:00:00\u001b[0m\n",
            "\u001b[?25hDownloading smmap-5.0.1-py3-none-any.whl (24 kB)\n",
            "Installing collected packages: watchdog, tenacity, smmap, pydeck, gitdb, gitpython, streamlit\n",
            "  Attempting uninstall: tenacity\n",
            "    Found existing installation: tenacity 9.0.0\n",
            "    Uninstalling tenacity-9.0.0:\n",
            "      Successfully uninstalled tenacity-9.0.0\n",
            "Successfully installed gitdb-4.0.11 gitpython-3.1.43 pydeck-0.9.1 smmap-5.0.1 streamlit-1.38.0 tenacity-8.5.0 watchdog-4.0.2\n",
            "Requirement already satisfied: pyngrok in /usr/local/lib/python3.10/dist-packages (7.2.0)\n",
            "Requirement already satisfied: PyYAML>=5.1 in /usr/local/lib/python3.10/dist-packages (from pyngrok) (6.0.2)\n",
            "Requirement already satisfied: textblob in /usr/local/lib/python3.10/dist-packages (0.17.1)\n",
            "Collecting clean-text\n",
            "  Downloading clean_text-0.6.0-py3-none-any.whl.metadata (6.6 kB)\n",
            "Requirement already satisfied: pandas in /usr/local/lib/python3.10/dist-packages (2.1.4)\n",
            "Requirement already satisfied: nltk>=3.1 in /usr/local/lib/python3.10/dist-packages (from textblob) (3.8.1)\n",
            "Collecting emoji<2.0.0,>=1.0.0 (from clean-text)\n",
            "  Downloading emoji-1.7.0.tar.gz (175 kB)\n",
            "\u001b[2K     \u001b[90m━━━━━━━━━━━━━━━━━━━━━━━━━━━━━━━━━━━━━━━━\u001b[0m \u001b[32m175.4/175.4 kB\u001b[0m \u001b[31m1.6 MB/s\u001b[0m eta \u001b[36m0:00:00\u001b[0m\n",
            "\u001b[?25h  Preparing metadata (setup.py) ... \u001b[?25l\u001b[?25hdone\n",
            "Collecting ftfy<7.0,>=6.0 (from clean-text)\n",
            "  Downloading ftfy-6.2.3-py3-none-any.whl.metadata (7.8 kB)\n",
            "Requirement already satisfied: numpy<2,>=1.22.4 in /usr/local/lib/python3.10/dist-packages (from pandas) (1.26.4)\n",
            "Requirement already satisfied: python-dateutil>=2.8.2 in /usr/local/lib/python3.10/dist-packages (from pandas) (2.8.2)\n",
            "Requirement already satisfied: pytz>=2020.1 in /usr/local/lib/python3.10/dist-packages (from pandas) (2024.1)\n",
            "Requirement already satisfied: tzdata>=2022.1 in /usr/local/lib/python3.10/dist-packages (from pandas) (2024.1)\n",
            "Requirement already satisfied: wcwidth<0.3.0,>=0.2.12 in /usr/local/lib/python3.10/dist-packages (from ftfy<7.0,>=6.0->clean-text) (0.2.13)\n",
            "Requirement already satisfied: click in /usr/local/lib/python3.10/dist-packages (from nltk>=3.1->textblob) (8.1.7)\n",
            "Requirement already satisfied: joblib in /usr/local/lib/python3.10/dist-packages (from nltk>=3.1->textblob) (1.4.2)\n",
            "Requirement already satisfied: regex>=2021.8.3 in /usr/local/lib/python3.10/dist-packages (from nltk>=3.1->textblob) (2024.5.15)\n",
            "Requirement already satisfied: tqdm in /usr/local/lib/python3.10/dist-packages (from nltk>=3.1->textblob) (4.66.5)\n",
            "Requirement already satisfied: six>=1.5 in /usr/local/lib/python3.10/dist-packages (from python-dateutil>=2.8.2->pandas) (1.16.0)\n",
            "Downloading clean_text-0.6.0-py3-none-any.whl (11 kB)\n",
            "Downloading ftfy-6.2.3-py3-none-any.whl (43 kB)\n",
            "\u001b[2K   \u001b[90m━━━━━━━━━━━━━━━━━━━━━━━━━━━━━━━━━━━━━━━━\u001b[0m \u001b[32m43.0/43.0 kB\u001b[0m \u001b[31m3.0 MB/s\u001b[0m eta \u001b[36m0:00:00\u001b[0m\n",
            "\u001b[?25hBuilding wheels for collected packages: emoji\n",
            "  Building wheel for emoji (setup.py) ... \u001b[?25l\u001b[?25hdone\n",
            "  Created wheel for emoji: filename=emoji-1.7.0-py3-none-any.whl size=171031 sha256=aeec7b84f231967f29a4aa495f53897d4a439e6e47d9e481cc9a1adfd05107a7\n",
            "  Stored in directory: /root/.cache/pip/wheels/31/8a/8c/315c9e5d7773f74b33d5ed33f075b49c6eaeb7cedbb86e2cf8\n",
            "Successfully built emoji\n",
            "Installing collected packages: emoji, ftfy, clean-text\n",
            "Successfully installed clean-text-0.6.0 emoji-1.7.0 ftfy-6.2.3\n"
          ]
        }
      ]
    },
    {
      "cell_type": "markdown",
      "source": [
        "# 5.Creating the Streamlit App (app.py):\n",
        "\n",
        "**with open('app.py', 'w') as f:** Opens a file named app.py in write mode ('w'), creating it if it doesn't exist.\n",
        "\n",
        "**f.write(\"\"\"...\"\"\"):** rites the Streamlit app code (enclosed within the triple quotes) into the app.py file."
      ],
      "metadata": {
        "id": "n2zavcESqNKo"
      }
    },
    {
      "cell_type": "code",
      "source": [
        "Save the Streamlit app code as a Python file\n",
        "with open('app.py', 'w') as f:\n",
        "    f.write(\"\"\"\n",
        "from textblob import TextBlob\n",
        "import pandas as pd\n",
        "import streamlit as st\n",
        "import cleantext\n",
        "\n",
        "st.header('Sentiment Analysis')\n",
        "\n",
        "# Individual Text Analysis\n",
        "with st.expander('Analyze Text'):\n",
        "    text = st.text_input('Enter text for sentiment analysis:')\n",
        "    if text:\n",
        "        blob = TextBlob(text)\n",
        "        st.write('Polarity:', round(blob.sentiment.polarity, 2))\n",
        "        st.write('Subjectivity:', round(blob.sentiment.subjectivity, 2))\n",
        "\n",
        "    pre = st.text_input('Clean your text:')\n",
        "    if pre:\n",
        "        cleaned_text = cleantext.clean(\n",
        "            pre, clean_all=False, extra_spaces=True, stopwords=True, lowercase=True, numbers=True, punct=True\n",
        "        )\n",
        "        st.write('Cleaned Text:', cleaned_text)\n",
        "\n",
        "# CSV Analysis\n",
        "with st.expander('Analyze CSV'):\n",
        "    upl = st.file_uploader('Upload your CSV file:', type=['csv', 'xlsx'])\n",
        "\n",
        "    # Function to calculate sentiment polarity\n",
        "    def score(x):\n",
        "        return TextBlob(x).sentiment.polarity\n",
        "\n",
        "    # Function to assign sentiment label\n",
        "    def analyze(x):\n",
        "        if x >= 0.5:\n",
        "            return 'Positive'\n",
        "        elif x <= -0.5:\n",
        "            return 'Negative'\n",
        "        else:\n",
        "            return 'Neutral'\n",
        "\n",
        "    if upl:\n",
        "        try:\n",
        "            if upl.name.endswith('.csv'):\n",
        "                df = pd.read_csv(upl)\n",
        "            else:\n",
        "                df = pd.read_excel(upl)\n",
        "\n",
        "            if 'tweets' not in df.columns:\n",
        "                st.error(\"The uploaded file must contain a 'tweets' column.\")\n",
        "            else:\n",
        "                if 'Unnamed: 0' in df.columns:\n",
        "                    del df['Unnamed: 0']\n",
        "\n",
        "                df['score'] = df['tweets'].apply(score)\n",
        "                df['analysis'] = df['score'].apply(analyze)\n",
        "                st.write(df.head(10))\n",
        "\n",
        "                # Convert the dataframe to CSV for download\n",
        "                @st.cache_data\n",
        "                def convert_df(df):\n",
        "                    return df.to_csv(index=False).encode('utf-8')\n",
        "\n",
        "                csv = convert_df(df)\n",
        "\n",
        "                st.download_button(\n",
        "                    label=\"Download data as CSV\",\n",
        "                    data=csv,\n",
        "                    file_name='sentiment.csv',\n",
        "                    mime='text/csv',\n",
        "                )\n",
        "        except Exception as e:\n",
        "            st.error(f\"Error processing file: {e}\")\n",
        "   \"\"\")"
      ],
      "metadata": {
        "id": "_8MBX0grqNdf"
      },
      "execution_count": 7,
      "outputs": []
    },
    {
      "cell_type": "markdown",
      "source": [
        "# 6.Running the Streamlit App:\n",
        "\n",
        "This section repeats the steps of setting up Ngrok, running the Streamlit app, and exposing it, similar to the first part of the script."
      ],
      "metadata": {
        "id": "AONwhzkIrDGL"
      }
    },
    {
      "cell_type": "code",
      "source": [
        "# Step 3: Run the Streamlit app with Ngrok\n",
        "from pyngrok import ngrok\n",
        "\n",
        "# Set your Ngrok authtoken (replace with your actual token)\n",
        "ngrok.set_auth_token('YOUR_NGROK_AUTH_TOKEN')\n",
        "\n",
        "# Start the Streamlit app\n",
        "!streamlit run app.py &>/dev/null&\n",
        "\n",
        "# Expose the Streamlit app using Ngrok\n",
        "# Use addr instead of port for HTTP tunnels\n",
        "public_url = ngrok.connect(addr='8501')\n",
        "print(f'Access the app here: {public_url}')"
      ],
      "metadata": {
        "colab": {
          "base_uri": "https://localhost:8080/"
        },
        "id": "xMtUbENirDTR",
        "outputId": "876c85e9-4ae5-4547-d606-2134ee53d617"
      },
      "execution_count": 8,
      "outputs": [
        {
          "output_type": "stream",
          "name": "stdout",
          "text": [
            "Access the app here: NgrokTunnel: \"https://b14b-34-122-214-116.ngrok-free.app\" -> \"http://localhost:8501\"\n"
          ]
        }
      ]
    }
  ]
}